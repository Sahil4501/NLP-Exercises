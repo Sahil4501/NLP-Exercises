{
 "cells": [
  {
   "cell_type": "code",
   "execution_count": 1,
   "id": "a96d0fde",
   "metadata": {},
   "outputs": [
    {
     "name": "stdout",
     "output_type": "stream",
     "text": [
      "The volume of the sphere is: 2144.660584850632\n"
     ]
    }
   ],
   "source": [
    "# Q1\n",
    "\n",
    "import math\n",
    "\n",
    "\n",
    "radius = 8\n",
    "\n",
    "\n",
    "volume = (4/3) * math.pi * radius**3\n",
    "\n",
    "# Print the volume\n",
    "print(\"The volume of the sphere is:\", volume)\n"
   ]
  },
  {
   "cell_type": "code",
   "execution_count": 2,
   "id": "43cd30b3",
   "metadata": {},
   "outputs": [
    {
     "name": "stdout",
     "output_type": "stream",
     "text": [
      "The total wholesale cost for 60 copies is: 945.4499999999999\n"
     ]
    }
   ],
   "source": [
    "# Q2\n",
    "\n",
    "# Define book properties and quantities\n",
    "cover_price = 24.95\n",
    "discount = 0.4  # 40% discount\n",
    "num_books = 60\n",
    "\n",
    "# Calculate wholesale price per book after discount\n",
    "wholesale_price = cover_price * (1 - discount)\n",
    "\n",
    "\n",
    "num_additional_copies = num_books - 1\n",
    "shipping_cost_additional = num_additional_copies * 0.75\n",
    "\n",
    "# Calculate total shipping cost (first copy + additional copies)\n",
    "total_shipping = 3 + shipping_cost_additional\n",
    "\n",
    "# Calculate total wholesale cost\n",
    "total_cost = wholesale_price * num_books + total_shipping\n",
    "\n",
    "# Print the total cost\n",
    "print(\"The total wholesale cost for 60 copies is:\", total_cost)\n"
   ]
  },
  {
   "cell_type": "code",
   "execution_count": 3,
   "id": "4cb02d96",
   "metadata": {},
   "outputs": [
    {
     "name": "stdout",
     "output_type": "stream",
     "text": [
      "You will arrive home for breakfast at: 07:30:06\n"
     ]
    }
   ],
   "source": [
    "# Q3\n",
    "\n",
    "from datetime import datetime, timedelta\n",
    "\n",
    "# Define running speeds and distances\n",
    "easy_pace_minutes_per_mile = 8.25\n",
    "tempo_pace_minutes_per_mile = 7.2\n",
    "\n",
    "easy_distance = 1  # miles\n",
    "tempo_distance = 3  # miles\n",
    "\n",
    "# Calculate total running time in minutes\n",
    "total_running_time = (easy_distance * easy_pace_minutes_per_mile) + (tempo_distance * tempo_pace_minutes_per_mile) + (easy_distance * easy_pace_minutes_per_mile)\n",
    "\n",
    "# Convert minutes to hours and minutes\n",
    "hours = int(total_running_time // 60)\n",
    "minutes = int(total_running_time % 60)\n",
    "\n",
    "# Set start time as 6:52 am\n",
    "start_time = \"06:52:00\"\n",
    "\n",
    "# Add running time to start time\n",
    "start_time_obj = datetime.strptime(start_time, \"%H:%M:%S\")\n",
    "arrival_time_obj = start_time_obj + timedelta(minutes=total_running_time)\n",
    "\n",
    "# Format arrival time as string\n",
    "arrival_time = arrival_time_obj.strftime(\"%H:%M:%S\")\n",
    "\n",
    "# Print arrival time\n",
    "print(\"You will arrive home for breakfast at:\", arrival_time)\n"
   ]
  },
  {
   "cell_type": "code",
   "execution_count": null,
   "id": "71960f17",
   "metadata": {},
   "outputs": [],
   "source": []
  }
 ],
 "metadata": {
  "kernelspec": {
   "display_name": "Python 3 (ipykernel)",
   "language": "python",
   "name": "python3"
  },
  "language_info": {
   "codemirror_mode": {
    "name": "ipython",
    "version": 3
   },
   "file_extension": ".py",
   "mimetype": "text/x-python",
   "name": "python",
   "nbconvert_exporter": "python",
   "pygments_lexer": "ipython3",
   "version": "3.11.4"
  }
 },
 "nbformat": 4,
 "nbformat_minor": 5
}
