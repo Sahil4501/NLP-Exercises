{
 "cells": [
  {
   "cell_type": "code",
   "execution_count": 1,
   "id": "de626181-eed7-4ebc-8f20-46c3b21b7b04",
   "metadata": {},
   "outputs": [
    {
     "ename": "SyntaxError",
     "evalue": "cannot assign to literal here. Maybe you meant '==' instead of '='? (4081427895.py, line 4)",
     "output_type": "error",
     "traceback": [
      "\u001b[1;36m  Cell \u001b[1;32mIn[1], line 4\u001b[1;36m\u001b[0m\n\u001b[1;33m    42 = n  # SyntaxError: cannot assign to literal\u001b[0m\n\u001b[1;37m    ^\u001b[0m\n\u001b[1;31mSyntaxError\u001b[0m\u001b[1;31m:\u001b[0m cannot assign to literal here. Maybe you meant '==' instead of '='?\n"
     ]
    }
   ],
   "source": [
    "# Question 1\n",
    "\n",
    "n = 42\n",
    "42 = n  # SyntaxError: cannot assign to literal\n",
    "\n",
    "# n = 42 is a valid assignment statement where n is assigned the value 42. 42 = n is not a valid statement in Python.\n",
    "# This will raise a SyntaxError because the syntax 42 = n is not allowed in Python. \n",
    "# The left side of an assignment statement must be a variable name or a valid expression that can be assigned to a variable."
   ]
  },
  {
   "cell_type": "code",
   "execution_count": 2,
   "id": "9bff5dce-103c-4d50-983c-1ca98cadb211",
   "metadata": {},
   "outputs": [
    {
     "name": "stdout",
     "output_type": "stream",
     "text": [
      "1 1\n"
     ]
    }
   ],
   "source": [
    "# Question 2\n",
    "\n",
    "x = y = 1\n",
    "print(x, y)  # Output: 1 1\n",
    "\n",
    "# x = y = 1 is a valid assignment statement where both x and y are assigned the value 1.\n",
    "# This is a chaining assignment, where multiple variables can be assigned the same value in a single statement."
   ]
  },
  {
   "cell_type": "code",
   "execution_count": 3,
   "id": "12117576-8300-40f0-8c48-6bf5b1351890",
   "metadata": {},
   "outputs": [
    {
     "name": "stdout",
     "output_type": "stream",
     "text": [
      "42\n"
     ]
    }
   ],
   "source": [
    "# Question 3\n",
    "\n",
    "x = 42;\n",
    "print(x)  # Output: 42\n",
    "\n",
    "#In Python, statements do not need to end with a semi-colon ;.\n",
    "# It is optional. Adding a semi-colon at the end of a Python statement is allowed but unnecessary, it does not cause an error."
   ]
  },
  {
   "cell_type": "code",
   "execution_count": 4,
   "id": "a3f04385-f1e8-49fe-88c6-b5bdc63ae4c6",
   "metadata": {},
   "outputs": [
    {
     "ename": "SyntaxError",
     "evalue": "invalid syntax (2769986445.py, line 5)",
     "output_type": "error",
     "traceback": [
      "\u001b[1;36m  Cell \u001b[1;32mIn[4], line 5\u001b[1;36m\u001b[0m\n\u001b[1;33m    x.  # AttributeError: 'float' object has no attribute ''\u001b[0m\n\u001b[1;37m        ^\u001b[0m\n\u001b[1;31mSyntaxError\u001b[0m\u001b[1;31m:\u001b[0m invalid syntax\n"
     ]
    }
   ],
   "source": [
    "# Question 4\n",
    "\n",
    "x = 42.\n",
    "print(x)  # Output: 42.0\n",
    "x.  # AttributeError: 'float' object has no attribute ''\n",
    "\n",
    "# Putting a period . at the end of a statement does not cause an error in Python. It is treated as a part of the statement. \n",
    "# However, it can change the behavior of the statement. For example, x. is interpreted as accessing a method or attribute of the object x. \n",
    "#If x is an integer, x. will raise an AttributeError."
   ]
  },
  {
   "cell_type": "code",
   "execution_count": null,
   "id": "d62f3d49-137e-4d31-946f-03f41b33754f",
   "metadata": {},
   "outputs": [],
   "source": [
    "# Question 5\n",
    "\n",
    "x = 5\n",
    "y = 2\n",
    "result = xy  # SyntaxError: invalid syntax\n",
    "result = x * y\n",
    "print(result)  # Output: 10\n",
    "\n",
    "# In Python, you can multiply x and y using the * operator. xy is not a valid expression in Python. \n",
    "# It will raise a SyntaxError because the syntax xy is not allowed in Python. To multiply x and y, use the * operator like x * y."
   ]
  }
 ],
 "metadata": {
  "kernelspec": {
   "display_name": "Python 3 (ipykernel)",
   "language": "python",
   "name": "python3"
  },
  "language_info": {
   "codemirror_mode": {
    "name": "ipython",
    "version": 3
   },
   "file_extension": ".py",
   "mimetype": "text/x-python",
   "name": "python",
   "nbconvert_exporter": "python",
   "pygments_lexer": "ipython3",
   "version": "3.11.4"
  }
 },
 "nbformat": 4,
 "nbformat_minor": 5
}
